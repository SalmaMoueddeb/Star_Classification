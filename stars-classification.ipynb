{
 "cells": [
  {
   "cell_type": "markdown",
   "id": "51cd8e4a",
   "metadata": {
    "id": "0qGrVrvcp--0",
    "papermill": {
     "duration": 0.007509,
     "end_time": "2023-03-09T10:46:15.583686",
     "exception": false,
     "start_time": "2023-03-09T10:46:15.576177",
     "status": "completed"
    },
    "tags": []
   },
   "source": [
    "# **Stars Classification**"
   ]
  },
  {
   "cell_type": "markdown",
   "id": "28d99cba",
   "metadata": {
    "id": "99ybK23wexQB",
    "papermill": {
     "duration": 0.005634,
     "end_time": "2023-03-09T10:46:15.596050",
     "exception": false,
     "start_time": "2023-03-09T10:46:15.590416",
     "status": "completed"
    },
    "tags": []
   },
   "source": [
    "This is a dataset consisting of several features of stars.\n",
    "\n",
    "Some of them are:\n",
    "\n",
    "- Absolute Temperature (in K)\n",
    "- Relative Luminosity (L/Lo)\n",
    "- Relative Radius (R/Ro)\n",
    "- Absolute Magnitude (Mv)\n",
    "- Star Color (white,Red,Blue,Yellow,yellow-orange etc)\n",
    "- Spectral Class (O,B,A,F,G,K,,M)\n",
    "- Star Type **(Red Dwarf, Brown Dwarf, White Dwarf, Main Sequence , SuperGiants, HyperGiants)**\n",
    "- Lo = 3.828 x 10^26 Watts (Avg Luminosity of Sun)\n",
    "- Ro = 6.9551 x 10^8 m (Avg Radius of Sun)"
   ]
  },
  {
   "cell_type": "code",
   "execution_count": 1,
   "id": "41ecf60a",
   "metadata": {
    "id": "H2oCFJGuy37u",
    "papermill": {
     "duration": 0.020493,
     "end_time": "2023-03-09T10:46:15.622480",
     "exception": false,
     "start_time": "2023-03-09T10:46:15.601987",
     "status": "completed"
    },
    "tags": []
   },
   "outputs": [],
   "source": [
    "# import library\n",
    "import pandas as pd\n",
    "import numpy as np"
   ]
  },
  {
   "cell_type": "code",
   "execution_count": 2,
   "id": "8eb67146",
   "metadata": {
    "id": "pvrtYImUy7hC",
    "papermill": {
     "duration": 0.439824,
     "end_time": "2023-03-09T10:46:16.068421",
     "exception": false,
     "start_time": "2023-03-09T10:46:15.628597",
     "status": "completed"
    },
    "tags": []
   },
   "outputs": [],
   "source": [
    "# import data\n",
    "star = pd.read_csv ('Stars.csv')"
   ]
  },
  {
   "cell_type": "code",
   "execution_count": 3,
   "id": "370e9190",
   "metadata": {
    "id": "ltkYXmdz-_z3",
    "outputId": "65f6131d-230b-491f-e662-38ef3296ee70",
    "papermill": {
     "duration": 0.040736,
     "end_time": "2023-03-09T10:46:16.115161",
     "exception": false,
     "start_time": "2023-03-09T10:46:16.074425",
     "status": "completed"
    },
    "tags": []
   },
   "outputs": [
    {
     "data": {
      "text/html": [
       "<div>\n",
       "<style scoped>\n",
       "    .dataframe tbody tr th:only-of-type {\n",
       "        vertical-align: middle;\n",
       "    }\n",
       "\n",
       "    .dataframe tbody tr th {\n",
       "        vertical-align: top;\n",
       "    }\n",
       "\n",
       "    .dataframe thead th {\n",
       "        text-align: right;\n",
       "    }\n",
       "</style>\n",
       "<table border=\"1\" class=\"dataframe\">\n",
       "  <thead>\n",
       "    <tr style=\"text-align: right;\">\n",
       "      <th></th>\n",
       "      <th>Temperature (K)</th>\n",
       "      <th>Luminosity (L/Lo)</th>\n",
       "      <th>Radius (R/Ro)</th>\n",
       "      <th>Absolute magnitude (Mv)</th>\n",
       "      <th>Star type</th>\n",
       "      <th>Star category</th>\n",
       "      <th>Star color</th>\n",
       "      <th>Spectral Class</th>\n",
       "    </tr>\n",
       "  </thead>\n",
       "  <tbody>\n",
       "    <tr>\n",
       "      <th>0</th>\n",
       "      <td>3068</td>\n",
       "      <td>0.002400</td>\n",
       "      <td>0.1700</td>\n",
       "      <td>16.12</td>\n",
       "      <td>0</td>\n",
       "      <td>Brown Dwarf</td>\n",
       "      <td>Red</td>\n",
       "      <td>M</td>\n",
       "    </tr>\n",
       "    <tr>\n",
       "      <th>1</th>\n",
       "      <td>3042</td>\n",
       "      <td>0.000500</td>\n",
       "      <td>0.1542</td>\n",
       "      <td>16.60</td>\n",
       "      <td>0</td>\n",
       "      <td>Brown Dwarf</td>\n",
       "      <td>Red</td>\n",
       "      <td>M</td>\n",
       "    </tr>\n",
       "    <tr>\n",
       "      <th>2</th>\n",
       "      <td>2600</td>\n",
       "      <td>0.000300</td>\n",
       "      <td>0.1020</td>\n",
       "      <td>18.70</td>\n",
       "      <td>0</td>\n",
       "      <td>Brown Dwarf</td>\n",
       "      <td>Red</td>\n",
       "      <td>M</td>\n",
       "    </tr>\n",
       "    <tr>\n",
       "      <th>3</th>\n",
       "      <td>2800</td>\n",
       "      <td>0.000200</td>\n",
       "      <td>0.1600</td>\n",
       "      <td>16.65</td>\n",
       "      <td>0</td>\n",
       "      <td>Brown Dwarf</td>\n",
       "      <td>Red</td>\n",
       "      <td>M</td>\n",
       "    </tr>\n",
       "    <tr>\n",
       "      <th>4</th>\n",
       "      <td>1939</td>\n",
       "      <td>0.000138</td>\n",
       "      <td>0.1030</td>\n",
       "      <td>20.06</td>\n",
       "      <td>0</td>\n",
       "      <td>Brown Dwarf</td>\n",
       "      <td>Red</td>\n",
       "      <td>M</td>\n",
       "    </tr>\n",
       "  </tbody>\n",
       "</table>\n",
       "</div>"
      ],
      "text/plain": [
       "   Temperature (K)  Luminosity (L/Lo)  Radius (R/Ro)  Absolute magnitude (Mv)  \\\n",
       "0             3068           0.002400         0.1700                    16.12   \n",
       "1             3042           0.000500         0.1542                    16.60   \n",
       "2             2600           0.000300         0.1020                    18.70   \n",
       "3             2800           0.000200         0.1600                    16.65   \n",
       "4             1939           0.000138         0.1030                    20.06   \n",
       "\n",
       "   Star type Star category Star color Spectral Class  \n",
       "0          0   Brown Dwarf        Red              M  \n",
       "1          0   Brown Dwarf        Red              M  \n",
       "2          0   Brown Dwarf        Red              M  \n",
       "3          0   Brown Dwarf        Red              M  \n",
       "4          0   Brown Dwarf        Red              M  "
      ]
     },
     "execution_count": 3,
     "metadata": {},
     "output_type": "execute_result"
    }
   ],
   "source": [
    "star.head()"
   ]
  },
  {
   "cell_type": "code",
   "execution_count": 4,
   "id": "dcbff7e1",
   "metadata": {
    "id": "f0XHmtvL_CGZ",
    "outputId": "4fe51aba-15f6-4863-efe5-af86ba344be0",
    "papermill": {
     "duration": 0.036582,
     "end_time": "2023-03-09T10:46:16.157996",
     "exception": false,
     "start_time": "2023-03-09T10:46:16.121414",
     "status": "completed"
    },
    "tags": []
   },
   "outputs": [
    {
     "name": "stdout",
     "output_type": "stream",
     "text": [
      "<class 'pandas.core.frame.DataFrame'>\n",
      "RangeIndex: 240 entries, 0 to 239\n",
      "Data columns (total 8 columns):\n",
      " #   Column                   Non-Null Count  Dtype  \n",
      "---  ------                   --------------  -----  \n",
      " 0   Temperature (K)          240 non-null    int64  \n",
      " 1   Luminosity (L/Lo)        240 non-null    float64\n",
      " 2   Radius (R/Ro)            240 non-null    float64\n",
      " 3   Absolute magnitude (Mv)  240 non-null    float64\n",
      " 4   Star type                240 non-null    int64  \n",
      " 5   Star category            240 non-null    object \n",
      " 6   Star color               240 non-null    object \n",
      " 7   Spectral Class           240 non-null    object \n",
      "dtypes: float64(3), int64(2), object(3)\n",
      "memory usage: 15.1+ KB\n"
     ]
    }
   ],
   "source": [
    "star.info()"
   ]
  },
  {
   "cell_type": "code",
   "execution_count": 5,
   "id": "189a3983",
   "metadata": {
    "id": "tmpkna_P4Wnn",
    "outputId": "89f9b65e-0636-4022-8721-13fbd9a9177f",
    "papermill": {
     "duration": 0.04307,
     "end_time": "2023-03-09T10:46:16.207436",
     "exception": false,
     "start_time": "2023-03-09T10:46:16.164366",
     "status": "completed"
    },
    "tags": []
   },
   "outputs": [
    {
     "data": {
      "text/html": [
       "<div>\n",
       "<style scoped>\n",
       "    .dataframe tbody tr th:only-of-type {\n",
       "        vertical-align: middle;\n",
       "    }\n",
       "\n",
       "    .dataframe tbody tr th {\n",
       "        vertical-align: top;\n",
       "    }\n",
       "\n",
       "    .dataframe thead th {\n",
       "        text-align: right;\n",
       "    }\n",
       "</style>\n",
       "<table border=\"1\" class=\"dataframe\">\n",
       "  <thead>\n",
       "    <tr style=\"text-align: right;\">\n",
       "      <th></th>\n",
       "      <th>Temperature (K)</th>\n",
       "      <th>Luminosity (L/Lo)</th>\n",
       "      <th>Radius (R/Ro)</th>\n",
       "      <th>Absolute magnitude (Mv)</th>\n",
       "      <th>Star type</th>\n",
       "    </tr>\n",
       "  </thead>\n",
       "  <tbody>\n",
       "    <tr>\n",
       "      <th>count</th>\n",
       "      <td>240.000000</td>\n",
       "      <td>240.000000</td>\n",
       "      <td>240.000000</td>\n",
       "      <td>240.000000</td>\n",
       "      <td>240.000000</td>\n",
       "    </tr>\n",
       "    <tr>\n",
       "      <th>mean</th>\n",
       "      <td>10497.462500</td>\n",
       "      <td>107188.361635</td>\n",
       "      <td>237.157781</td>\n",
       "      <td>4.382396</td>\n",
       "      <td>2.500000</td>\n",
       "    </tr>\n",
       "    <tr>\n",
       "      <th>std</th>\n",
       "      <td>9552.425037</td>\n",
       "      <td>179432.244940</td>\n",
       "      <td>517.155763</td>\n",
       "      <td>10.532512</td>\n",
       "      <td>1.711394</td>\n",
       "    </tr>\n",
       "    <tr>\n",
       "      <th>min</th>\n",
       "      <td>1939.000000</td>\n",
       "      <td>0.000080</td>\n",
       "      <td>0.008400</td>\n",
       "      <td>-11.920000</td>\n",
       "      <td>0.000000</td>\n",
       "    </tr>\n",
       "    <tr>\n",
       "      <th>25%</th>\n",
       "      <td>3344.250000</td>\n",
       "      <td>0.000865</td>\n",
       "      <td>0.102750</td>\n",
       "      <td>-6.232500</td>\n",
       "      <td>1.000000</td>\n",
       "    </tr>\n",
       "    <tr>\n",
       "      <th>50%</th>\n",
       "      <td>5776.000000</td>\n",
       "      <td>0.070500</td>\n",
       "      <td>0.762500</td>\n",
       "      <td>8.313000</td>\n",
       "      <td>2.500000</td>\n",
       "    </tr>\n",
       "    <tr>\n",
       "      <th>75%</th>\n",
       "      <td>15055.500000</td>\n",
       "      <td>198050.000000</td>\n",
       "      <td>42.750000</td>\n",
       "      <td>13.697500</td>\n",
       "      <td>4.000000</td>\n",
       "    </tr>\n",
       "    <tr>\n",
       "      <th>max</th>\n",
       "      <td>40000.000000</td>\n",
       "      <td>849420.000000</td>\n",
       "      <td>1948.500000</td>\n",
       "      <td>20.060000</td>\n",
       "      <td>5.000000</td>\n",
       "    </tr>\n",
       "  </tbody>\n",
       "</table>\n",
       "</div>"
      ],
      "text/plain": [
       "       Temperature (K)  Luminosity (L/Lo)  Radius (R/Ro)  \\\n",
       "count       240.000000         240.000000     240.000000   \n",
       "mean      10497.462500      107188.361635     237.157781   \n",
       "std        9552.425037      179432.244940     517.155763   \n",
       "min        1939.000000           0.000080       0.008400   \n",
       "25%        3344.250000           0.000865       0.102750   \n",
       "50%        5776.000000           0.070500       0.762500   \n",
       "75%       15055.500000      198050.000000      42.750000   \n",
       "max       40000.000000      849420.000000    1948.500000   \n",
       "\n",
       "       Absolute magnitude (Mv)   Star type  \n",
       "count               240.000000  240.000000  \n",
       "mean                  4.382396    2.500000  \n",
       "std                  10.532512    1.711394  \n",
       "min                 -11.920000    0.000000  \n",
       "25%                  -6.232500    1.000000  \n",
       "50%                   8.313000    2.500000  \n",
       "75%                  13.697500    4.000000  \n",
       "max                  20.060000    5.000000  "
      ]
     },
     "execution_count": 5,
     "metadata": {},
     "output_type": "execute_result"
    }
   ],
   "source": [
    "star.describe()"
   ]
  },
  {
   "cell_type": "code",
   "execution_count": 6,
   "id": "44e05509",
   "metadata": {
    "id": "cXKbh7DzAMZ9",
    "outputId": "3527f48f-da5d-4ab2-94b3-9b04a0e911dd",
    "papermill": {
     "duration": 0.027027,
     "end_time": "2023-03-09T10:46:16.266469",
     "exception": false,
     "start_time": "2023-03-09T10:46:16.239442",
     "status": "completed"
    },
    "scrolled": true,
    "tags": []
   },
   "outputs": [
    {
     "data": {
      "text/plain": [
       "Spectral Class\n",
       "M                 111\n",
       "B                  46\n",
       "O                  40\n",
       "A                  19\n",
       "F                  17\n",
       "K                   6\n",
       "G                   1\n",
       "Name: count, dtype: int64"
      ]
     },
     "execution_count": 6,
     "metadata": {},
     "output_type": "execute_result"
    }
   ],
   "source": [
    "# number of categories\n",
    "star[['Spectral Class']].value_counts()"
   ]
  },
  {
   "cell_type": "code",
   "execution_count": 7,
   "id": "eec3a66a-07c6-49ef-96cb-9d1ad2ac72e1",
   "metadata": {},
   "outputs": [],
   "source": [
    "star.columns = star.columns.str.strip()  # Remove any leading/trailing spaces\n"
   ]
  },
  {
   "cell_type": "code",
   "execution_count": 8,
   "id": "42fafea8",
   "metadata": {
    "id": "d9Y-SSJ3zxue",
    "papermill": {
     "duration": 0.019146,
     "end_time": "2023-03-09T10:46:16.292398",
     "exception": false,
     "start_time": "2023-03-09T10:46:16.273252",
     "status": "completed"
    },
    "tags": []
   },
   "outputs": [
    {
     "name": "stdout",
     "output_type": "stream",
     "text": [
      "Spectral_Group\n",
      "2    117\n",
      "0     86\n",
      "1     37\n",
      "Name: count, dtype: int64\n"
     ]
    }
   ],
   "source": [
    "# Define the 3-class mapping\n",
    "spectral_mapping = {\n",
    "    'O': 0,  # Blue Giants\n",
    "    'B': 0,  # Blue Giants\n",
    "    'A': 1,  # Solar Analogs\n",
    "    'F': 1,  # Solar Analogs\n",
    "    'G': 1,  # Solar Analogs\n",
    "    'K': 2,  # Cool Dwarfs\n",
    "    'M': 2   # Cool Dwarfs\n",
    "}\n",
    "\n",
    "# Apply the mapping to the target column\n",
    "star['Spectral_Group'] = star['Spectral Class'].map(spectral_mapping)\n",
    "\n",
    "# Verify the transformation\n",
    "print(star['Spectral_Group'].value_counts())"
   ]
  },
  {
   "cell_type": "code",
   "execution_count": 9,
   "id": "8d263a57-edb6-42d5-ac41-10bfdf155fea",
   "metadata": {},
   "outputs": [
    {
     "data": {
      "text/plain": [
       "Spectral_Group\n",
       "2                 117\n",
       "0                  86\n",
       "1                  37\n",
       "Name: count, dtype: int64"
      ]
     },
     "execution_count": 9,
     "metadata": {},
     "output_type": "execute_result"
    }
   ],
   "source": [
    "star[['Spectral_Group']].value_counts()"
   ]
  },
  {
   "cell_type": "code",
   "execution_count": 10,
   "id": "20e65c1d",
   "metadata": {
    "id": "d7s9KFqRApFa",
    "outputId": "ed01dd5d-0192-4105-d22b-2f459b88550b",
    "papermill": {
     "duration": 0.021162,
     "end_time": "2023-03-09T10:46:16.320287",
     "exception": false,
     "start_time": "2023-03-09T10:46:16.299125",
     "status": "completed"
    },
    "tags": []
   },
   "outputs": [
    {
     "data": {
      "text/plain": [
       "Star type\n",
       "0            40\n",
       "1            40\n",
       "2            40\n",
       "3            40\n",
       "4            40\n",
       "5            40\n",
       "Name: count, dtype: int64"
      ]
     },
     "execution_count": 10,
     "metadata": {},
     "output_type": "execute_result"
    }
   ],
   "source": [
    "# number of categories\n",
    "star[['Star type']].value_counts()"
   ]
  },
  {
   "cell_type": "code",
   "execution_count": 11,
   "id": "9130eba0-f2eb-4d1c-b35f-0ca6fc952f7d",
   "metadata": {},
   "outputs": [
    {
     "data": {
      "text/plain": [
       "Star color        \n",
       "Red                   112\n",
       "Blue                   55\n",
       "Blue-white             26\n",
       "Blue White             10\n",
       "yellow-white            8\n",
       "White                   7\n",
       "Blue white              3\n",
       "white                   3\n",
       "Yellowish White         3\n",
       "Whitish                 2\n",
       "yellowish               2\n",
       "Orange                  2\n",
       "Blue                    1\n",
       "White-Yellow            1\n",
       "Orange-Red              1\n",
       "Yellowish               1\n",
       "Blue-White              1\n",
       "Blue white              1\n",
       "Pale yellow orange      1\n",
       "Name: count, dtype: int64"
      ]
     },
     "execution_count": 11,
     "metadata": {},
     "output_type": "execute_result"
    }
   ],
   "source": [
    "star[['Star color']].value_counts()"
   ]
  },
  {
   "cell_type": "code",
   "execution_count": 12,
   "id": "6c820ad3",
   "metadata": {
    "id": "gxMdpWGrtxSJ",
    "papermill": {
     "duration": 0.020106,
     "end_time": "2023-03-09T10:46:16.347265",
     "exception": false,
     "start_time": "2023-03-09T10:46:16.327159",
     "status": "completed"
    },
    "tags": []
   },
   "outputs": [],
   "source": [
    "# Normalize color names by making lowercase and removing spaces\n",
    "star['Star color'] = star['Star color'].str.lower().str.strip()\n",
    "\n",
    "# Define categories\n",
    "color_mapping = {\n",
    "    'red': 0,\n",
    "    'orange': 2,  # Group similar shades\n",
    "    'yellow': 2,\n",
    "    'white': 3,  'white ': 3,\n",
    "    'blue': 4, 'blue ': 4,\n",
    "}\n",
    "\n",
    "# Apply encoding\n",
    "star['Star color'] = star['Star color'].replace(color_mapping)\n"
   ]
  },
  {
   "cell_type": "code",
   "execution_count": 13,
   "id": "1c8ae8be",
   "metadata": {
    "id": "BrzFVAHz_Xpg",
    "outputId": "f0864219-1346-4788-8c30-570efa3dbef2",
    "papermill": {
     "duration": 0.022135,
     "end_time": "2023-03-09T10:46:16.376341",
     "exception": false,
     "start_time": "2023-03-09T10:46:16.354206",
     "status": "completed"
    },
    "scrolled": true,
    "tags": []
   },
   "outputs": [
    {
     "data": {
      "text/plain": [
       "Star color        \n",
       "0                     112\n",
       "4                      56\n",
       "blue-white             27\n",
       "blue white             14\n",
       "3                      10\n",
       "yellow-white            8\n",
       "yellowish               3\n",
       "yellowish white         3\n",
       "2                       2\n",
       "whitish                 2\n",
       "orange-red              1\n",
       "pale yellow orange      1\n",
       "white-yellow            1\n",
       "Name: count, dtype: int64"
      ]
     },
     "execution_count": 13,
     "metadata": {},
     "output_type": "execute_result"
    }
   ],
   "source": [
    "# number of categories\n",
    "star[['Star color']].value_counts()"
   ]
  },
  {
   "cell_type": "code",
   "execution_count": 14,
   "id": "0ce345eb-bff0-41ca-9f0e-85892460cf16",
   "metadata": {
    "scrolled": true
   },
   "outputs": [
    {
     "name": "stdout",
     "output_type": "stream",
     "text": [
      "     Temperature (K)  Luminosity (L/Lo)  Radius (R/Ro)  \\\n",
      "0          -0.779382          -0.598624      -0.459210   \n",
      "1          -0.782110          -0.598624      -0.459241   \n",
      "2          -0.828477          -0.598624      -0.459342   \n",
      "3          -0.807496          -0.598624      -0.459229   \n",
      "4          -0.897819          -0.598624      -0.459340   \n",
      "..               ...                ...            ...   \n",
      "235         2.983743           1.494720       2.167974   \n",
      "236         2.133913           4.059319       1.854068   \n",
      "237        -0.175029           2.403157       2.297800   \n",
      "238        -0.132438           1.662878       1.695177   \n",
      "239         2.872754           1.048345       2.995370   \n",
      "\n",
      "     Absolute magnitude (Mv)  \n",
      "0                   1.116745  \n",
      "1                   1.162414  \n",
      "2                   1.362213  \n",
      "3                   1.167171  \n",
      "4                   1.491607  \n",
      "..                       ...  \n",
      "235                -1.361718  \n",
      "236                -1.428317  \n",
      "237                -1.437832  \n",
      "238                -1.485403  \n",
      "239                -1.159064  \n",
      "\n",
      "[240 rows x 4 columns]\n"
     ]
    }
   ],
   "source": [
    "from sklearn.preprocessing import StandardScaler\n",
    "\n",
    "\n",
    "# Define the target and features\n",
    "y = star['Spectral_Group']\n",
    "X = star[['Temperature (K)', 'Luminosity (L/Lo)', 'Radius (R/Ro)', 'Absolute magnitude (Mv)']]\n",
    "\n",
    "# Initialize the StandardScaler\n",
    "scaler = StandardScaler()\n",
    "\n",
    "# Fit the scaler to the features and transform them\n",
    "X_scaled = scaler.fit_transform(X)\n",
    "\n",
    "# Convert the scaled features back into a DataFrame for better readability\n",
    "X_scaled_df = pd.DataFrame(X_scaled, columns=X.columns)\n",
    "\n",
    "# Show the scaled features\n",
    "print(X_scaled_df)\n"
   ]
  },
  {
   "cell_type": "code",
   "execution_count": 15,
   "id": "a84d18e5",
   "metadata": {
    "id": "Uh4Qx-WmXbcE",
    "papermill": {
     "duration": 1.202641,
     "end_time": "2023-03-09T10:46:17.612174",
     "exception": false,
     "start_time": "2023-03-09T10:46:16.409533",
     "status": "completed"
    },
    "tags": []
   },
   "outputs": [],
   "source": [
    "# split\n",
    "from sklearn.model_selection import train_test_split\n",
    "X_train, X_test, y_train, y_test = train_test_split(X, y, train_size = 0.7, random_state = 290)"
   ]
  },
  {
   "cell_type": "code",
   "execution_count": 16,
   "id": "12830bca",
   "metadata": {},
   "outputs": [
    {
     "name": "stdout",
     "output_type": "stream",
     "text": [
      "Index(['Temperature (K)', 'Luminosity (L/Lo)', 'Radius (R/Ro)',\n",
      "       'Absolute magnitude (Mv)', 'Star type', 'Star category', 'Star color',\n",
      "       'Spectral Class', 'Spectral_Group'],\n",
      "      dtype='object')\n"
     ]
    }
   ],
   "source": [
    "print(star.columns)"
   ]
  },
  {
   "cell_type": "code",
   "execution_count": 17,
   "id": "604c16b7",
   "metadata": {},
   "outputs": [
    {
     "name": "stdout",
     "output_type": "stream",
     "text": [
      "Class Weights: {2: 0.6837606837606838, 0: 0.9302325581395349, 1: 2.1621621621621623}\n"
     ]
    }
   ],
   "source": [
    "from sklearn.utils.class_weight import compute_class_weight\n",
    "\n",
    "# Calculate class weights\n",
    "classes = star['Spectral_Group'].unique()  # Get unique classes\n",
    "class_weights = compute_class_weight(\n",
    "    class_weight='balanced',  # Automatically balances weights\n",
    "    classes=classes,          # List of unique classes\n",
    "    y=star['Spectral_Group']  # Target column\n",
    ")\n",
    "\n",
    "# Convert to a dictionary for model input\n",
    "class_weight_dict = dict(zip(classes, class_weights))\n",
    "\n",
    "print(\"Class Weights:\", class_weight_dict)"
   ]
  },
  {
   "cell_type": "code",
   "execution_count": 18,
   "id": "cf4ebfd8",
   "metadata": {
    "id": "B4G93PVhYjyl",
    "papermill": {
     "duration": 0.131497,
     "end_time": "2023-03-09T10:46:17.751168",
     "exception": false,
     "start_time": "2023-03-09T10:46:17.619671",
     "status": "completed"
    },
    "tags": []
   },
   "outputs": [
    {
     "ename": "ModuleNotFoundError",
     "evalue": "No module named 'xgboost'",
     "output_type": "error",
     "traceback": [
      "\u001b[1;31m---------------------------------------------------------------------------\u001b[0m",
      "\u001b[1;31mModuleNotFoundError\u001b[0m                       Traceback (most recent call last)",
      "Cell \u001b[1;32mIn[18], line 1\u001b[0m\n\u001b[1;32m----> 1\u001b[0m \u001b[38;5;28;01mfrom\u001b[39;00m\u001b[38;5;250m \u001b[39m\u001b[38;5;21;01mxgboost\u001b[39;00m\u001b[38;5;250m \u001b[39m\u001b[38;5;28;01mimport\u001b[39;00m XGBClassifier\n\u001b[0;32m      3\u001b[0m \u001b[38;5;66;03m# Train XGBoost with class weights\u001b[39;00m\n\u001b[0;32m      4\u001b[0m model \u001b[38;5;241m=\u001b[39m XGBClassifier(\n\u001b[0;32m      5\u001b[0m     objective\u001b[38;5;241m=\u001b[39m\u001b[38;5;124m'\u001b[39m\u001b[38;5;124mmulti:softmax\u001b[39m\u001b[38;5;124m'\u001b[39m,  \u001b[38;5;66;03m# For multi-class classification\u001b[39;00m\n\u001b[0;32m      6\u001b[0m     num_class\u001b[38;5;241m=\u001b[39m\u001b[38;5;28mlen\u001b[39m(classes),     \u001b[38;5;66;03m# Number of classes\u001b[39;00m\n\u001b[1;32m   (...)\u001b[0m\n\u001b[0;32m      9\u001b[0m     scale_pos_weight\u001b[38;5;241m=\u001b[39m\u001b[38;5;28;01mNone\u001b[39;00m       \u001b[38;5;66;03m# Not used for multi-class\u001b[39;00m\n\u001b[0;32m     10\u001b[0m )\n",
      "\u001b[1;31mModuleNotFoundError\u001b[0m: No module named 'xgboost'"
     ]
    }
   ],
   "source": [
    "from xgboost import XGBClassifier\n",
    "\n",
    "# Train XGBoost with class weights\n",
    "model = XGBClassifier(\n",
    "    objective='multi:softmax',  # For multi-class classification\n",
    "    num_class=len(classes),     # Number of classes\n",
    "    use_label_encoder=False,    # Disable label encoder\n",
    "    eval_metric='mlogloss',     # Multi-class log loss\n",
    "    scale_pos_weight=None       # Not used for multi-class\n",
    ")\n",
    "\n",
    "# Fit the model with class weights\n",
    "model.fit(X_train, y_train, sample_weight=star['Spectral Class'].map(class_weight_dict))"
   ]
  },
  {
   "cell_type": "code",
   "execution_count": null,
   "id": "33fe201a",
   "metadata": {
    "id": "9zj_do5MZ7ro",
    "papermill": {
     "duration": 0.018863,
     "end_time": "2023-03-09T10:46:17.840356",
     "exception": false,
     "start_time": "2023-03-09T10:46:17.821493",
     "status": "completed"
    },
    "tags": []
   },
   "outputs": [],
   "source": [
    "# predict\n",
    "y_pred = model.predict(X_test)"
   ]
  },
  {
   "cell_type": "code",
   "execution_count": null,
   "id": "0d13e23b",
   "metadata": {
    "id": "fYxaGZZv1bVe",
    "outputId": "268352de-c163-4970-98ed-d396fb45ccd8",
    "papermill": {
     "duration": 0.019512,
     "end_time": "2023-03-09T10:46:17.867069",
     "exception": false,
     "start_time": "2023-03-09T10:46:17.847557",
     "status": "completed"
    },
    "tags": []
   },
   "outputs": [],
   "source": [
    "y_pred"
   ]
  },
  {
   "cell_type": "code",
   "execution_count": null,
   "id": "74cb8fb4",
   "metadata": {
    "id": "LeG8eFnKAUII",
    "papermill": {
     "duration": 0.017049,
     "end_time": "2023-03-09T10:46:17.891369",
     "exception": false,
     "start_time": "2023-03-09T10:46:17.874320",
     "status": "completed"
    },
    "tags": []
   },
   "outputs": [],
   "source": [
    "# import function\n",
    "from sklearn.metrics import confusion_matrix, classification_report"
   ]
  },
  {
   "cell_type": "code",
   "execution_count": null,
   "id": "86490c26",
   "metadata": {
    "id": "BzrhbXQAmR1x",
    "outputId": "9d2af00a-d29c-4890-b6e2-fcec205a54a9",
    "papermill": {
     "duration": 0.023062,
     "end_time": "2023-03-09T10:46:17.921608",
     "exception": false,
     "start_time": "2023-03-09T10:46:17.898546",
     "status": "completed"
    },
    "tags": []
   },
   "outputs": [],
   "source": [
    "confusion_matrix(y_test,y_pred)"
   ]
  },
  {
   "cell_type": "code",
   "execution_count": null,
   "id": "a58d5e5b",
   "metadata": {
    "id": "10bskobTmUIn",
    "outputId": "40f826a2-cec8-437a-b210-7dceb19a4721",
    "papermill": {
     "duration": 0.023255,
     "end_time": "2023-03-09T10:46:17.952408",
     "exception": false,
     "start_time": "2023-03-09T10:46:17.929153",
     "status": "completed"
    },
    "tags": []
   },
   "outputs": [],
   "source": [
    "print(classification_report(y_test,y_pred))"
   ]
  },
  {
   "cell_type": "code",
   "execution_count": null,
   "id": "891e3575-1621-4f3f-bd6e-5b5d8d9f2910",
   "metadata": {},
   "outputs": [],
   "source": [
    "star.describe()"
   ]
  },
  {
   "cell_type": "code",
   "execution_count": null,
   "id": "9fb297da-e3bc-414c-9312-ef8b0e09a56d",
   "metadata": {},
   "outputs": [],
   "source": [
    "from sklearn.model_selection import cross_val_score\n",
    "\n",
    "scores = cross_val_score(model, X_train, y_train, cv=5, scoring='accuracy')\n",
    "print(f'Cross-validation accuracy: {scores.mean():.2f} ± {scores.std():.2f}')\n"
   ]
  },
  {
   "cell_type": "code",
   "execution_count": null,
   "id": "25ca10b2-4d2a-4d83-a93c-3565d1ce917c",
   "metadata": {},
   "outputs": [],
   "source": [
    "from sklearn.model_selection import StratifiedKFold, cross_val_score\n",
    "\n",
    "skf = StratifiedKFold(n_splits=5, shuffle=True, random_state=42)\n",
    "scores = cross_val_score(model, X, y, cv=skf, scoring='accuracy')\n",
    "print(f'Stratified CV Accuracy: {scores.mean():.2f} ± {scores.std():.2f}')\n"
   ]
  },
  {
   "cell_type": "markdown",
   "id": "6866b2fe",
   "metadata": {},
   "source": [
    "transform the  .ipynb file into a .pkl file (model)"
   ]
  },
  {
   "cell_type": "code",
   "execution_count": null,
   "id": "3437f9c6-20d3-42bc-acc0-1748a01e77e6",
   "metadata": {
    "id": "-f7yzayLmjbn",
    "papermill": {
     "duration": 0.007213,
     "end_time": "2023-03-09T10:46:17.968168",
     "exception": false,
     "start_time": "2023-03-09T10:46:17.960955",
     "status": "completed"
    },
    "tags": []
   },
   "outputs": [],
   "source": [
    "import pickle\n",
    "\n",
    "# Save the trained model\n",
    "with open('star_classification_model.pkl', 'wb') as model_file:\n",
    "    pickle.dump(model, model_file)\n",
    "\n",
    "# Save the fitted scaler\n",
    "with open('star_scaler.pkl', 'wb') as scaler_file:\n",
    "    pickle.dump(scaler, scaler_file)\n",
    "\n",
    "print(\"Model and scaler exported successfully.\")\n"
   ]
  }
 ],
 "metadata": {
  "kernelspec": {
   "display_name": "Python 3",
   "language": "python",
   "name": "python3"
  },
  "language_info": {
   "codemirror_mode": {
    "name": "ipython",
    "version": 3
   },
   "file_extension": ".py",
   "mimetype": "text/x-python",
   "name": "python",
   "nbconvert_exporter": "python",
   "pygments_lexer": "ipython3",
   "version": "3.10.5"
  },
  "papermill": {
   "default_parameters": {},
   "duration": 14.006381,
   "end_time": "2023-03-09T10:46:18.799231",
   "environment_variables": {},
   "exception": null,
   "input_path": "__notebook__.ipynb",
   "output_path": "__notebook__.ipynb",
   "parameters": {},
   "start_time": "2023-03-09T10:46:04.792850",
   "version": "2.4.0"
  },
  "widgets": {
   "application/vnd.jupyter.widget-state+json": {
    "state": {},
    "version_major": 2,
    "version_minor": 0
   }
  }
 },
 "nbformat": 4,
 "nbformat_minor": 5
}
